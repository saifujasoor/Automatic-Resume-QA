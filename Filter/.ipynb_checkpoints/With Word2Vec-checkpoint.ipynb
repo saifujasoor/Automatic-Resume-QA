{
 "cells": [
  {
   "cell_type": "code",
   "execution_count": 12,
   "metadata": {},
   "outputs": [],
   "source": [
    "import os\n",
    "from os import path as osp\n",
    "\n",
    "import numpy as np\n",
    "\n",
    "root = osp.dirname(os.getcwd())\n",
    "\n",
    "from gensim.models import Word2Vec as w2v\n",
    "\n",
    "model = w2v.load(osp.join(root,'Model/stackexchange_model'))"
   ]
  },
  {
   "cell_type": "code",
   "execution_count": 13,
   "metadata": {},
   "outputs": [
    {
     "name": "stdout",
     "output_type": "stream",
     "text": [
      "0.3007647\n"
     ]
    }
   ],
   "source": [
    "print(model.wv.similarity('software','web')) #self.wv.__getitem__"
   ]
  },
  {
   "cell_type": "markdown",
   "metadata": {},
   "source": [
    "# Word2Vec to get sentence vectors"
   ]
  },
  {
   "cell_type": "code",
   "execution_count": 8,
   "metadata": {},
   "outputs": [],
   "source": [
    "def sent2vec(s):\n",
    "    '''Generate Vectora for sentences.'''\n",
    "    M = []\n",
    "    for w in s.split():\n",
    "        try:\n",
    "            M.append(model[w])\n",
    "        except:\n",
    "            continue\n",
    "    M = np.array(M)\n",
    "    v = M.sum(axis=0)\n",
    "    return v/np.sqrt((v**2).sum())"
   ]
  },
  {
   "cell_type": "code",
   "execution_count": 9,
   "metadata": {},
   "outputs": [],
   "source": [
    "def cosine_sim(vec1, vec2):\n",
    "    '''Return Cosine Similarity.'''\n",
    "    return  np.dot(vec1,vec2)/(np.linalg.norm(vec1)* np.linalg.norm(vec2))"
   ]
  },
  {
   "cell_type": "code",
   "execution_count": 16,
   "metadata": {},
   "outputs": [
    {
     "name": "stdout",
     "output_type": "stream",
     "text": [
      "0.64327896\n"
     ]
    },
    {
     "name": "stderr",
     "output_type": "stream",
     "text": [
      "/tmp/ipykernel_23242/2102860763.py:6: DeprecationWarning: Call to deprecated `__getitem__` (Method will be removed in 4.0.0, use self.wv.__getitem__() instead).\n",
      "  M.append(model[w])\n"
     ]
    }
   ],
   "source": [
    "softdev = sent2vec('software developer')\n",
    "\n",
    "print(cosine_sim(softdev,sent2vec('web developer')))\n"
   ]
  },
  {
   "cell_type": "code",
   "execution_count": 7,
   "metadata": {
    "scrolled": true
   },
   "outputs": [
    {
     "name": "stdout",
     "output_type": "stream",
     "text": [
      "0.59283704\n",
      "0.9038886\n"
     ]
    },
    {
     "name": "stderr",
     "output_type": "stream",
     "text": [
      "/tmp/ipykernel_22021/2102860763.py:6: DeprecationWarning: Call to deprecated `__getitem__` (Method will be removed in 4.0.0, use self.wv.__getitem__() instead).\n",
      "  M.append(model[w])\n"
     ]
    },
    {
     "data": {
      "text/plain": [
       "0.39218268"
      ]
     },
     "execution_count": 7,
     "metadata": {},
     "output_type": "execute_result"
    }
   ],
   "source": [
    "print(cosine_sim(softdev,sent2vec('systems developer')))\n",
    "print(cosine_sim(softdev,sent2vec('software engineer')))\n",
    "cosine_sim(softdev,sent2vec('data scientist'))"
   ]
  },
  {
   "cell_type": "markdown",
   "metadata": {},
   "source": [
    "# Using Word2Vec to get similar words"
   ]
  },
  {
   "cell_type": "code",
   "execution_count": 7,
   "metadata": {},
   "outputs": [
    {
     "data": {
      "text/plain": [
       "[('ios', 0.7613162994384766),\n",
       " ('iphone', 0.7476478815078735),\n",
       " ('ipad', 0.7242550849914551),\n",
       " ('mobile', 0.7198758125305176),\n",
       " ('mac', 0.6739652156829834)]"
      ]
     },
     "execution_count": 7,
     "metadata": {},
     "output_type": "execute_result"
    }
   ],
   "source": [
    "#Get 5 most similar words by words\n",
    "\n",
    "model.wv.most_similar(positive=['android'],topn=5)"
   ]
  },
  {
   "cell_type": "code",
   "execution_count": 8,
   "metadata": {},
   "outputs": [
    {
     "data": {
      "text/plain": [
       "[('software', 0.8723065853118896),\n",
       " ('developer', 0.7645061016082764),\n",
       " ('hardware', 0.6354432702064514),\n",
       " ('programmer', 0.613621711730957),\n",
       " ('linux', 0.5968120694160461)]"
      ]
     },
     "execution_count": 8,
     "metadata": {},
     "output_type": "execute_result"
    }
   ],
   "source": [
    "#Get 5 most similar words by vector. \n",
    "# We can obviuosly get simlar words by providing a vector using the format below:\n",
    "'''model.similar_by_vector(vector,topn = 10)'''\n",
    "#But we can also use it cleverly to find a similar word to a phrase, using my sent2vec method:\n",
    "                                         \n",
    "model.wv.similar_by_vector(softdev, topn =5)"
   ]
  },
  {
   "cell_type": "code",
   "execution_count": null,
   "metadata": {},
   "outputs": [],
   "source": []
  },
  {
   "cell_type": "code",
   "execution_count": null,
   "metadata": {},
   "outputs": [],
   "source": []
  }
 ],
 "metadata": {
  "kernelspec": {
   "display_name": "Python 3",
   "language": "python",
   "name": "python3"
  },
  "language_info": {
   "codemirror_mode": {
    "name": "ipython",
    "version": 3
   },
   "file_extension": ".py",
   "mimetype": "text/x-python",
   "name": "python",
   "nbconvert_exporter": "python",
   "pygments_lexer": "ipython3",
   "version": "3.8.10"
  }
 },
 "nbformat": 4,
 "nbformat_minor": 1
}
