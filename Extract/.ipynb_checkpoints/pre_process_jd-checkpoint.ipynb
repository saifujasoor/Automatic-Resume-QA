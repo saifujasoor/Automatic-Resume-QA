{
 "cells": [
  {
   "cell_type": "code",
   "execution_count": 1,
   "metadata": {},
   "outputs": [
    {
     "name": "stderr",
     "output_type": "stream",
     "text": [
      "2022-05-09 12:19:56.141941: W tensorflow/stream_executor/platform/default/dso_loader.cc:64] Could not load dynamic library 'libcudart.so.11.0'; dlerror: libcudart.so.11.0: cannot open shared object file: No such file or directory\n",
      "2022-05-09 12:19:56.141996: I tensorflow/stream_executor/cuda/cudart_stub.cc:29] Ignore above cudart dlerror if you do not have a GPU set up on your machine.\n"
     ]
    }
   ],
   "source": [
    "import spacy\n",
    "import en_core_web_sm\n",
    "nlp = en_core_web_sm.load()"
   ]
  },
  {
   "cell_type": "code",
   "execution_count": 2,
   "metadata": {},
   "outputs": [],
   "source": [
    "def modify(word):\n",
    "    try:\n",
    "        symbols = '''~'`!@#$%^&*)(_+-=}{][|\\:;\",./<>?'''\n",
    "        mod_word = ''\n",
    "        \n",
    "        for char in word:\n",
    "            if (char not in symbols):\n",
    "                mod_word += char.lower()\n",
    "\n",
    "        docx = nlp(unicode(mod_word))\n",
    "\n",
    "        if (len(mod_word) == 0 or docx[0].is_stop):\n",
    "            return None\n",
    "        else:\n",
    "            return docx[0].lemma_\n",
    "    except:\n",
    "        return None # to handle the odd case of characters like 'x02', etc."
   ]
  },
  {
   "cell_type": "code",
   "execution_count": 6,
   "metadata": {},
   "outputs": [],
   "source": [
    "raw_jd = 'software engineer c, c++, java, uml, xamp, agile. defence/communications our client is a successful and expanding company developing air defence systems, information systems, targeting systems, communication systems. they now require an additional software engineer to support the design evolution from requirements into software code. identification of test requirements and the development of component test harnesses. supporting design and code review activities to derisk the design evolution qualifications for the software engineer. degree in software engineering, computer science, maths, physics or equivalent good degree pref 1st or ****:1, meng or equiv. essential requirements: software engineer experience in one or more of the following: object oriented analysis and design (preferably  uml)  unix /linux or windows, c, c++, java. html, php candidates from a defence background experience of agile development an advantage. experience of xamp technologies useful. desirable requirements:  software engineer  experience in one or more of the following: realtime design. mathematical or algorithm coding  network protocols  oo case tools  structured design. methods  data and voice networks  computer telephony integration (cti) an appreciation of the following: testing techniques and strategies  configuration management personal attributes flexibility, adaptability, team player, good communication skills, discipline the company provide excellent career prospects and career development recent software graduates will also be considered for these roles. keywords software engineer, c, c++, java, realtime, embedded, uml, linux, unix, oo, agile, xamp. defence, communication systems.'\n",
    "pre_jd = ''\n",
    "\n",
    "for word in raw_jd.split():\n",
    "    if modify(word) is not None:\n",
    "        pre_jd += modify(word)+' '\n",
    "        "
   ]
  },
  {
   "cell_type": "code",
   "execution_count": 7,
   "metadata": {},
   "outputs": [
    {
     "data": {
      "text/plain": [
       "''"
      ]
     },
     "execution_count": 7,
     "metadata": {},
     "output_type": "execute_result"
    }
   ],
   "source": [
    "pre_jd"
   ]
  },
  {
   "cell_type": "code",
   "execution_count": null,
   "metadata": {},
   "outputs": [],
   "source": []
  }
 ],
 "metadata": {
  "kernelspec": {
   "display_name": "Python 3 (ipykernel)",
   "language": "python",
   "name": "python3"
  },
  "language_info": {
   "codemirror_mode": {
    "name": "ipython",
    "version": 3
   },
   "file_extension": ".py",
   "mimetype": "text/x-python",
   "name": "python",
   "nbconvert_exporter": "python",
   "pygments_lexer": "ipython3",
   "version": "3.8.10"
  }
 },
 "nbformat": 4,
 "nbformat_minor": 2
}
