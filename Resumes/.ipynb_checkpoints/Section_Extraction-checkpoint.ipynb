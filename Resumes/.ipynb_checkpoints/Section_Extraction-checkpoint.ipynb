{
 "cells": [
  {
   "cell_type": "code",
   "execution_count": 1,
   "metadata": {},
   "outputs": [
    {
     "name": "stdout",
     "output_type": "stream",
     "text": [
      "(10000, 300)\n"
     ]
    }
   ],
   "source": [
    "import spacy\n",
    "from spacy.vectors import Vectors\n",
    "import os\n",
    "import pandas as pd\n",
    "import numpy as np\n",
    "from numpy import empty\n",
    "nlp = spacy.load('en_core_web_sm')\n",
    "vectors = Vectors(shape=(10000, 300))\n",
    "nlp.vocab.vectors = vectors\n",
    "print(nlp.vocab.vectors.shape)\n",
    "import re\n",
    "re_c = re.compile(r'\\w+')"
   ]
  },
  {
   "cell_type": "code",
   "execution_count": 2,
   "metadata": {},
   "outputs": [],
   "source": [
    "# switch for debug\n",
    "flag_print = True\n",
    "\n",
    "# switch to clear existing data\n",
    "flag_clear = True\n",
    "\n",
    "#threshold value for determining section\n",
    "threshold = 0.5"
   ]
  },
  {
   "cell_type": "code",
   "execution_count": 3,
   "metadata": {},
   "outputs": [
    {
     "name": "stdout",
     "output_type": "stream",
     "text": [
      "edu ['education', 'study', 'academic', 'institute', 'school', 'college']\n",
      "exp ['job', 'internship', 'training', 'research', 'career', 'profession', 'roleproject', 'responsibility', 'description', 'work', 'workshop', 'conference']\n",
      "skill ['skill', 'language', 'technology', 'framework', 'tool', 'database']\n",
      "extra ['introduction', 'intro', 'achievement', 'hobby', 'link', 'additional', 'personal', 'award', 'objective', 'miscellaneous', 'interest']\n"
     ]
    }
   ],
   "source": [
    "# to get extract sections from the resume -- add or remove from  'similar_to' accordingly\n",
    "similar_to = {\n",
    "    'edu' : ['education', 'study', 'academics', 'institute', 'school', 'college'],\n",
    "    'exp' : ['job', 'internship', 'training', 'research', 'career', 'profession', 'role'\n",
    "             'project', 'responsibility', 'description', 'work experience', 'workshop', 'conference'],\n",
    "    'skill' : ['skill', 'languages', 'technology', 'framework', 'tools', 'database'],\n",
    "    'extra' : ['introduction', 'intro', 'achievement', 'hobby', 'links', 'additional', \n",
    "               'personal', 'award', 'objective', 'miscellaneous', 'interest']\n",
    "}\n",
    "\n",
    "list_of_sections = similar_to.keys()\n",
    "\n",
    "# to bring similar_words to their normal forms\n",
    "for section in list_of_sections:\n",
    "    new_list = []\n",
    "    \n",
    "    for word in similar_to[section]:\n",
    "        docx = nlp(word)\n",
    "        new_list.append(docx[0].lemma_)\n",
    "        \n",
    "    if flag_print:\n",
    "        print(section, new_list)\n",
    "        \n",
    "    similar_to[section] = new_list"
   ]
  },
  {
   "cell_type": "code",
   "execution_count": 4,
   "metadata": {},
   "outputs": [
    {
     "name": "stdout",
     "output_type": "stream",
     "text": [
      "Hello!! --returned--> hello\n",
      ".,<> --returned--> None\n",
      "India --returned--> india\n",
      "of --returned--> None\n",
      "..freedoM.. --returned--> freedom\n",
      "e-mail --returned--> email\n"
     ]
    }
   ],
   "source": [
    "# function to remove unnecessary symbols and stopwords \n",
    "# function to return the words in a uniform \n",
    "def modify(word):\n",
    "    try:\n",
    "        symbols = '''~'`!@#$%^&*)(_+-=}{][|\\:;\",./<>?'''\n",
    "        mod_word = ''\n",
    "        \n",
    "        for char in word:\n",
    "            if (char not in symbols):\n",
    "                mod_word += char.lower()\n",
    "\n",
    "        docx = nlp(mod_word)\n",
    "\n",
    "        if (len(mod_word) == 0 or docx[0].is_stop):\n",
    "            return None\n",
    "        else:\n",
    "            return docx[0].lemma_\n",
    "    except:\n",
    "        return None # to handle the odd case of characters like 'x02', etc.\n",
    "    \n",
    "if flag_print:\n",
    "    test_words = ['Hello!!', '.,<>', 'India', 'of', '..freedoM..', 'e-mail']\n",
    "    \n",
    "    for word in test_words:\n",
    "        print(word, '--returned-->', modify(word))"
   ]
  },
  {
   "cell_type": "code",
   "execution_count": 5,
   "metadata": {},
   "outputs": [
    {
     "name": "stdout",
     "output_type": "stream",
     "text": [
      ". --returned--> True\n",
      "<.> --returned--> True\n",
      "Speak --returned--> False\n",
      "out --returned--> False\n",
      "\"Eric\" --returned--> False\n",
      "freemail... --returned--> False\n"
     ]
    }
   ],
   "source": [
    "# utility function to skip line when no alphabet present\n",
    "def is_bad(line):\n",
    "    for c in line:\n",
    "        if (c.isalpha()):\n",
    "            return False\n",
    "    return True\n",
    "      \n",
    "if flag_print:\n",
    "    test_words = ['.', '<.>', 'Speak', 'out', '\"Eric\"', 'freemail...']\n",
    "    \n",
    "    for word in test_words:\n",
    "        print(word, '--returned-->', is_bad(word)) "
   ]
  },
  {
   "cell_type": "code",
   "execution_count": 6,
   "metadata": {},
   "outputs": [
    {
     "ename": "FileNotFoundError",
     "evalue": "[Errno 2] No such file or directory: '/home/test/Desktop/Automatic-Resume-QA/Resumes/Resumes/CVs'",
     "output_type": "error",
     "traceback": [
      "\u001b[0;31m---------------------------------------------------------------------------\u001b[0m",
      "\u001b[0;31mFileNotFoundError\u001b[0m                         Traceback (most recent call last)",
      "\u001b[0;32m<ipython-input-6-0b5c1b7d465a>\u001b[0m in \u001b[0;36m<module>\u001b[0;34m\u001b[0m\n\u001b[1;32m      2\u001b[0m \u001b[0mflag_print\u001b[0m \u001b[0;34m=\u001b[0m \u001b[0;32mFalse\u001b[0m\u001b[0;34m\u001b[0m\u001b[0;34m\u001b[0m\u001b[0m\n\u001b[1;32m      3\u001b[0m \u001b[0;34m\u001b[0m\u001b[0m\n\u001b[0;32m----> 4\u001b[0;31m \u001b[0;32mfor\u001b[0m \u001b[0mfile_name\u001b[0m \u001b[0;32min\u001b[0m \u001b[0mos\u001b[0m\u001b[0;34m.\u001b[0m\u001b[0mlistdir\u001b[0m\u001b[0;34m(\u001b[0m\u001b[0mos\u001b[0m\u001b[0;34m.\u001b[0m\u001b[0mgetcwd\u001b[0m\u001b[0;34m(\u001b[0m\u001b[0;34m)\u001b[0m\u001b[0;34m+\u001b[0m\u001b[0;34m'/Resumes/CVs'\u001b[0m\u001b[0;34m)\u001b[0m\u001b[0;34m:\u001b[0m\u001b[0;34m\u001b[0m\u001b[0;34m\u001b[0m\u001b[0m\n\u001b[0m\u001b[1;32m      5\u001b[0m     \u001b[0;32mif\u001b[0m \u001b[0mflag_print\u001b[0m\u001b[0;34m:\u001b[0m\u001b[0;34m\u001b[0m\u001b[0;34m\u001b[0m\u001b[0m\n\u001b[1;32m      6\u001b[0m         \u001b[0mprint\u001b[0m\u001b[0;34m(\u001b[0m\u001b[0;34m'\\n'\u001b[0m\u001b[0;34m)\u001b[0m\u001b[0;34m\u001b[0m\u001b[0;34m\u001b[0m\u001b[0m\n",
      "\u001b[0;31mFileNotFoundError\u001b[0m: [Errno 2] No such file or directory: '/home/test/Desktop/Automatic-Resume-QA/Resumes/Resumes/CVs'"
     ]
    }
   ],
   "source": [
    "dict_of_data_series = {}\n",
    "flag_print = False\n",
    "\n",
    "for file_name in os.listdir(os.getcwd()+'/CVs'):\n",
    "    if flag_print:\n",
    "        print('\\n')\n",
    "        print('*'*25) \n",
    "        print(file_name) \n",
    "        print('*'*25) \n",
    "        \n",
    "    main_file_handler = open('/CVs/'+file_name, 'r', encoding='latin-1')  \n",
    "    previous_section  = 'extra'\n",
    "    \n",
    "    curr_data_series = pd.Series([\"\"]*len(list_of_sections), index=list_of_sections)\n",
    "                   \n",
    "    for line in main_file_handler:\n",
    "        # skip line if empty\n",
    "        if (len(line.strip()) == 0 or is_empty(line)):\n",
    "            continue\n",
    "                \n",
    "        # processing next line\n",
    "        list_of_words_in_line = re_c.findall(line)\n",
    "        list_of_imp_words_in_line  = []\n",
    "        \n",
    "        for i in range(len(list_of_words_in_line)):\n",
    "            modified_word = modify(list_of_words_in_line[i])\n",
    "            \n",
    "            if (modified_word):\n",
    "                list_of_imp_words_in_line.append(modified_word)\n",
    "\n",
    "        curr_line = ' '.join(list_of_imp_words_in_line)\n",
    "        doc = nlp(curr_line)\n",
    "        section_value = {}\n",
    "            \n",
    "        # initializing section values to zero\n",
    "        for section in list_of_sections:\n",
    "            section_value[section] = 0.0\n",
    "        section_value[None] = 0.0\n",
    "            \n",
    "        # updating section values    \n",
    "        for token in doc:\n",
    "            for section in list_of_sections:\n",
    "                for word in similar_to[section]:\n",
    "                    word_token = doc.vocab[word]\n",
    "                    section_value[section] = max(section_value[section], float(word_token.similarity(token)))\n",
    "\n",
    "        # determining the next section based on section values and threshold\n",
    "        most_likely_section = None\n",
    "        for section in list_of_sections:\n",
    "            #print '>>', section, section_value[section]\n",
    "            if (section_value[most_likely_section] < section_value[section] and section_value[section] > threshold):\n",
    "                most_likely_section = section\n",
    "            \n",
    "        # updating the section\n",
    "        if (previous_section != most_likely_section and most_likely_section is not None):\n",
    "            previous_section = most_likely_section\n",
    "                \n",
    "\n",
    "        # writing data to the pandas series\n",
    "        try:\n",
    "            docx = nlp(line)\n",
    "        except:\n",
    "            continue  # to handle the odd case of characters like 'x02', etc.\n",
    "        mod_line = ''\n",
    "        for token in docx:\n",
    "            if (not token.is_stop):\n",
    "                mod_line += token.lemma_ + ' '\n",
    "        \n",
    "        curr_data_series[previous_section] += mod_line\n",
    "            \n",
    "    dict_of_data_series[file_name] = curr_data_series\n",
    "    if flag_print:\n",
    "        print(curr_data_series)\n",
    "    main_file_handler.close()\n",
    "    \n",
    "data_frame = pd.DataFrame(dict_of_data_series)\n",
    "data_frame.to_csv('prc_data.csv', sep='\\t')\n",
    "#data_frame.head()"
   ]
  },
  {
   "cell_type": "code",
   "execution_count": null,
   "metadata": {},
   "outputs": [],
   "source": [
    "data_frame.head()"
   ]
  },
  {
   "cell_type": "code",
   "execution_count": null,
   "metadata": {},
   "outputs": [],
   "source": []
  }
 ],
 "metadata": {
  "anaconda-cloud": {},
  "kernelspec": {
   "display_name": "Python 3",
   "language": "python",
   "name": "python3"
  },
  "language_info": {
   "codemirror_mode": {
    "name": "ipython",
    "version": 3
   },
   "file_extension": ".py",
   "mimetype": "text/x-python",
   "name": "python",
   "nbconvert_exporter": "python",
   "pygments_lexer": "ipython3",
   "version": "3.8.10"
  }
 },
 "nbformat": 4,
 "nbformat_minor": 1
}
